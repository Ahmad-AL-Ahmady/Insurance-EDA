{
  "cells": [
    {
      "cell_type": "markdown",
      "metadata": {
        "id": "Vv-ro2O7AO-M"
      },
      "source": [
        "#Pre Processing\n"
      ]
    },
    {
      "cell_type": "markdown",
      "metadata": {
        "id": "qFO67k0CpIym"
      },
      "source": [
        "##Set up the environment\n"
      ]
    },
    {
      "cell_type": "code",
      "execution_count": 1,
      "metadata": {
        "id": "tOsQYOfSUEj0"
      },
      "outputs": [],
      "source": [
        "import pandas as pd\n",
        "import numpy as np\n",
        "import matplotlib.pyplot as plt\n",
        "import seaborn as sns\n",
        "from sklearn.model_selection import train_test_split\n",
        "from sklearn.preprocessing import OneHotEncoder\n",
        "from sklearn.metrics import mean_absolute_error, mean_squared_error"
      ]
    },
    {
      "cell_type": "markdown",
      "metadata": {
        "id": "UqnC7A_prQHI"
      },
      "source": [
        "##1. Read Dataset\n"
      ]
    },
    {
      "cell_type": "code",
      "execution_count": 2,
      "metadata": {
        "colab": {
          "base_uri": "https://localhost:8080/",
          "height": 206
        },
        "id": "vOySJ88ho3pG",
        "outputId": "feadafb7-bda3-4660-cac7-71200764a47f"
      },
      "outputs": [
        {
          "data": {
            "text/html": [
              "<div>\n",
              "<style scoped>\n",
              "    .dataframe tbody tr th:only-of-type {\n",
              "        vertical-align: middle;\n",
              "    }\n",
              "\n",
              "    .dataframe tbody tr th {\n",
              "        vertical-align: top;\n",
              "    }\n",
              "\n",
              "    .dataframe thead th {\n",
              "        text-align: right;\n",
              "    }\n",
              "</style>\n",
              "<table border=\"1\" class=\"dataframe\">\n",
              "  <thead>\n",
              "    <tr style=\"text-align: right;\">\n",
              "      <th></th>\n",
              "      <th>age</th>\n",
              "      <th>sex</th>\n",
              "      <th>bmi</th>\n",
              "      <th>children</th>\n",
              "      <th>smoker</th>\n",
              "      <th>region</th>\n",
              "      <th>charges</th>\n",
              "    </tr>\n",
              "  </thead>\n",
              "  <tbody>\n",
              "    <tr>\n",
              "      <th>0</th>\n",
              "      <td>19</td>\n",
              "      <td>female</td>\n",
              "      <td>27.900</td>\n",
              "      <td>0</td>\n",
              "      <td>yes</td>\n",
              "      <td>southwest</td>\n",
              "      <td>16884.92400</td>\n",
              "    </tr>\n",
              "    <tr>\n",
              "      <th>1</th>\n",
              "      <td>18</td>\n",
              "      <td>male</td>\n",
              "      <td>33.770</td>\n",
              "      <td>1</td>\n",
              "      <td>no</td>\n",
              "      <td>southeast</td>\n",
              "      <td>1725.55230</td>\n",
              "    </tr>\n",
              "    <tr>\n",
              "      <th>2</th>\n",
              "      <td>28</td>\n",
              "      <td>male</td>\n",
              "      <td>33.000</td>\n",
              "      <td>3</td>\n",
              "      <td>no</td>\n",
              "      <td>southeast</td>\n",
              "      <td>4449.46200</td>\n",
              "    </tr>\n",
              "    <tr>\n",
              "      <th>3</th>\n",
              "      <td>33</td>\n",
              "      <td>male</td>\n",
              "      <td>22.705</td>\n",
              "      <td>0</td>\n",
              "      <td>no</td>\n",
              "      <td>northwest</td>\n",
              "      <td>21984.47061</td>\n",
              "    </tr>\n",
              "    <tr>\n",
              "      <th>4</th>\n",
              "      <td>32</td>\n",
              "      <td>male</td>\n",
              "      <td>28.880</td>\n",
              "      <td>0</td>\n",
              "      <td>no</td>\n",
              "      <td>northwest</td>\n",
              "      <td>3866.85520</td>\n",
              "    </tr>\n",
              "  </tbody>\n",
              "</table>\n",
              "</div>"
            ],
            "text/plain": [
              "   age     sex     bmi  children smoker     region      charges\n",
              "0   19  female  27.900         0    yes  southwest  16884.92400\n",
              "1   18    male  33.770         1     no  southeast   1725.55230\n",
              "2   28    male  33.000         3     no  southeast   4449.46200\n",
              "3   33    male  22.705         0     no  northwest  21984.47061\n",
              "4   32    male  28.880         0     no  northwest   3866.85520"
            ]
          },
          "execution_count": 2,
          "metadata": {},
          "output_type": "execute_result"
        }
      ],
      "source": [
        "df = pd.read_csv('Insurance.csv')\n",
        "df.head()"
      ]
    },
    {
      "cell_type": "code",
      "execution_count": 3,
      "metadata": {
        "colab": {
          "base_uri": "https://localhost:8080/"
        },
        "id": "cXqG-nYTqUhj",
        "outputId": "617bf455-fe22-49e1-91c2-a75e8b845d32"
      },
      "outputs": [
        {
          "name": "stdout",
          "output_type": "stream",
          "text": [
            "First few rows of the dataset:\n",
            "   age     sex     bmi  children smoker     region      charges\n",
            "0   19  female  27.900         0    yes  southwest  16884.92400\n",
            "1   18    male  33.770         1     no  southeast   1725.55230\n",
            "2   28    male  33.000         3     no  southeast   4449.46200\n",
            "3   33    male  22.705         0     no  northwest  21984.47061\n",
            "4   32    male  28.880         0     no  northwest   3866.85520\n",
            "========\n",
            "Dataset information:\n",
            "<class 'pandas.core.frame.DataFrame'>\n",
            "RangeIndex: 1338 entries, 0 to 1337\n",
            "Data columns (total 7 columns):\n",
            " #   Column    Non-Null Count  Dtype  \n",
            "---  ------    --------------  -----  \n",
            " 0   age       1338 non-null   int64  \n",
            " 1   sex       1338 non-null   object \n",
            " 2   bmi       1338 non-null   float64\n",
            " 3   children  1338 non-null   int64  \n",
            " 4   smoker    1338 non-null   object \n",
            " 5   region    1338 non-null   object \n",
            " 6   charges   1338 non-null   float64\n",
            "dtypes: float64(2), int64(2), object(3)\n",
            "memory usage: 73.3+ KB\n",
            "None\n",
            "========\n",
            "Descriptive statistics:\n",
            "               age          bmi     children       charges\n",
            "count  1338.000000  1338.000000  1338.000000   1338.000000\n",
            "mean     39.207025    30.663397     1.094918  13270.422265\n",
            "std      14.049960     6.098187     1.205493  12110.011237\n",
            "min      18.000000    15.960000     0.000000   1121.873900\n",
            "25%      27.000000    26.296250     0.000000   4740.287150\n",
            "50%      39.000000    30.400000     1.000000   9382.033000\n",
            "75%      51.000000    34.693750     2.000000  16639.912515\n",
            "max      64.000000    53.130000     5.000000  63770.428010\n"
          ]
        }
      ],
      "source": [
        "print(\"First few rows of the dataset:\")\n",
        "print(df.head())\n",
        "print(\"========\\nDataset information:\")\n",
        "print(df.info())\n",
        "print(\"========\\nDescriptive statistics:\")\n",
        "print(df.describe())"
      ]
    },
    {
      "cell_type": "markdown",
      "metadata": {
        "id": "O8sHrm_Kryya"
      },
      "source": [
        "##2. Explore the Data\n"
      ]
    },
    {
      "cell_type": "code",
      "execution_count": 4,
      "metadata": {
        "colab": {
          "base_uri": "https://localhost:8080/",
          "height": 206
        },
        "id": "zuVcV5unqpR8",
        "outputId": "083c3fe1-62da-41fe-f066-eab4f14d6a06"
      },
      "outputs": [
        {
          "data": {
            "text/html": [
              "<div>\n",
              "<style scoped>\n",
              "    .dataframe tbody tr th:only-of-type {\n",
              "        vertical-align: middle;\n",
              "    }\n",
              "\n",
              "    .dataframe tbody tr th {\n",
              "        vertical-align: top;\n",
              "    }\n",
              "\n",
              "    .dataframe thead th {\n",
              "        text-align: right;\n",
              "    }\n",
              "</style>\n",
              "<table border=\"1\" class=\"dataframe\">\n",
              "  <thead>\n",
              "    <tr style=\"text-align: right;\">\n",
              "      <th></th>\n",
              "      <th>age</th>\n",
              "      <th>sex</th>\n",
              "      <th>bmi</th>\n",
              "      <th>children</th>\n",
              "      <th>smoker</th>\n",
              "      <th>region</th>\n",
              "      <th>charges</th>\n",
              "    </tr>\n",
              "  </thead>\n",
              "  <tbody>\n",
              "    <tr>\n",
              "      <th>0</th>\n",
              "      <td>19</td>\n",
              "      <td>female</td>\n",
              "      <td>27.900</td>\n",
              "      <td>0</td>\n",
              "      <td>yes</td>\n",
              "      <td>southwest</td>\n",
              "      <td>16884.92400</td>\n",
              "    </tr>\n",
              "    <tr>\n",
              "      <th>1</th>\n",
              "      <td>18</td>\n",
              "      <td>male</td>\n",
              "      <td>33.770</td>\n",
              "      <td>1</td>\n",
              "      <td>no</td>\n",
              "      <td>southeast</td>\n",
              "      <td>1725.55230</td>\n",
              "    </tr>\n",
              "    <tr>\n",
              "      <th>2</th>\n",
              "      <td>28</td>\n",
              "      <td>male</td>\n",
              "      <td>33.000</td>\n",
              "      <td>3</td>\n",
              "      <td>no</td>\n",
              "      <td>southeast</td>\n",
              "      <td>4449.46200</td>\n",
              "    </tr>\n",
              "    <tr>\n",
              "      <th>3</th>\n",
              "      <td>33</td>\n",
              "      <td>male</td>\n",
              "      <td>22.705</td>\n",
              "      <td>0</td>\n",
              "      <td>no</td>\n",
              "      <td>northwest</td>\n",
              "      <td>21984.47061</td>\n",
              "    </tr>\n",
              "    <tr>\n",
              "      <th>4</th>\n",
              "      <td>32</td>\n",
              "      <td>male</td>\n",
              "      <td>28.880</td>\n",
              "      <td>0</td>\n",
              "      <td>no</td>\n",
              "      <td>northwest</td>\n",
              "      <td>3866.85520</td>\n",
              "    </tr>\n",
              "  </tbody>\n",
              "</table>\n",
              "</div>"
            ],
            "text/plain": [
              "   age     sex     bmi  children smoker     region      charges\n",
              "0   19  female  27.900         0    yes  southwest  16884.92400\n",
              "1   18    male  33.770         1     no  southeast   1725.55230\n",
              "2   28    male  33.000         3     no  southeast   4449.46200\n",
              "3   33    male  22.705         0     no  northwest  21984.47061\n",
              "4   32    male  28.880         0     no  northwest   3866.85520"
            ]
          },
          "execution_count": 4,
          "metadata": {},
          "output_type": "execute_result"
        }
      ],
      "source": [
        "df.head()"
      ]
    },
    {
      "cell_type": "code",
      "execution_count": 5,
      "metadata": {
        "id": "aBLW6Muur5tp"
      },
      "outputs": [],
      "source": [
        "# Check for categorical and numerical columns\n",
        "categorical_columns = df.select_dtypes(include=['object']).columns\n",
        "numerical_columns = df.select_dtypes(include=['int64', 'float64']).columns"
      ]
    },
    {
      "cell_type": "code",
      "execution_count": 6,
      "metadata": {
        "colab": {
          "base_uri": "https://localhost:8080/"
        },
        "id": "zrzjf4a_sFg1",
        "outputId": "fce658b5-a264-4863-e65f-c130a9d313d6"
      },
      "outputs": [
        {
          "name": "stdout",
          "output_type": "stream",
          "text": [
            "\n",
            "Categorical columns: ['sex', 'smoker', 'region']\n",
            "Numerical columns: ['age', 'bmi', 'children', 'charges']\n"
          ]
        }
      ],
      "source": [
        "print(\"\\nCategorical columns:\", list(categorical_columns))\n",
        "print(\"Numerical columns:\", list(numerical_columns))"
      ]
    },
    {
      "cell_type": "code",
      "execution_count": 7,
      "metadata": {
        "colab": {
          "base_uri": "https://localhost:8080/"
        },
        "id": "EbVlFw07tePB",
        "outputId": "57e2648e-4ebc-4a4b-e41a-7eeaf995555d"
      },
      "outputs": [
        {
          "name": "stdout",
          "output_type": "stream",
          "text": [
            "\n",
            "Datatypes after conversion:\n",
            "age            int64\n",
            "sex         category\n",
            "bmi          float64\n",
            "children       int64\n",
            "smoker      category\n",
            "region      category\n",
            "charges      float64\n",
            "dtype: object\n",
            "\n",
            "Unique values in categorical columns:\n",
            "========\n",
            "sex unique values:\n",
            "sex\n",
            "male      676\n",
            "female    662\n",
            "Name: count, dtype: int64\n",
            "========\n",
            "smoker unique values:\n",
            "smoker\n",
            "no     1064\n",
            "yes     274\n",
            "Name: count, dtype: int64\n",
            "========\n",
            "region unique values:\n",
            "region\n",
            "southeast    364\n",
            "northwest    325\n",
            "southwest    325\n",
            "northeast    324\n",
            "Name: count, dtype: int64\n"
          ]
        }
      ],
      "source": [
        "categorical_columns = ['sex', 'smoker', 'region']\n",
        "for col in categorical_columns:\n",
        "    df[col] = df[col].astype('category')\n",
        "\n",
        "print(\"\\nDatatypes after conversion:\")\n",
        "print(df.dtypes)\n",
        "\n",
        "\n",
        "print(\"\\nUnique values in categorical columns:\")\n",
        "for col in categorical_columns:\n",
        "    print(f\"========\\n{col} unique values:\")\n",
        "    print(df[col].value_counts())"
      ]
    },
    {
      "cell_type": "code",
      "execution_count": 8,
      "metadata": {
        "colab": {
          "base_uri": "https://localhost:8080/"
        },
        "id": "1ZUnjeaAsIRZ",
        "outputId": "6abe6f88-a134-4f0e-f435-ad3ed8493b0c"
      },
      "outputs": [
        {
          "name": "stdout",
          "output_type": "stream",
          "text": [
            "Number of missing values in each column:\n",
            "age         0\n",
            "sex         0\n",
            "bmi         0\n",
            "children    0\n",
            "smoker      0\n",
            "region      0\n",
            "charges     0\n",
            "dtype: int64\n",
            "========\n",
            "Percentage of missing values in each column:\n",
            "age         0.0\n",
            "sex         0.0\n",
            "bmi         0.0\n",
            "children    0.0\n",
            "smoker      0.0\n",
            "region      0.0\n",
            "charges     0.0\n",
            "dtype: float64\n"
          ]
        }
      ],
      "source": [
        "print(\"Number of missing values in each column:\")\n",
        "print(df.isnull().sum())\n",
        "print(\"========\\nPercentage of missing values in each column:\")\n",
        "missing_percentages = (df.isnull().sum() / len(df)) * 100\n",
        "print(missing_percentages)"
      ]
    },
    {
      "cell_type": "markdown",
      "metadata": {
        "id": "_2COwgr8whYp"
      },
      "source": [
        "##3. Handle Missing Values\n"
      ]
    },
    {
      "cell_type": "markdown",
      "metadata": {
        "id": "71GADDu3wa09"
      },
      "source": [
        "No missing or null values.\n"
      ]
    },
    {
      "cell_type": "markdown",
      "metadata": {
        "id": "iGcXH-KBxoTQ"
      },
      "source": [
        "##4. Outlier Detection and Treatment\n"
      ]
    },
    {
      "cell_type": "code",
      "execution_count": 9,
      "metadata": {
        "colab": {
          "base_uri": "https://localhost:8080/",
          "height": 505
        },
        "id": "SzIZuWU8sV3U",
        "outputId": "9c5c5022-e3b3-4ea9-d652-b1cb2a701eb6"
      },
      "outputs": [
        {
          "data": {
            "image/png": "[encoded data removed]",
            "text/plain": [
              "<Figure size 1500x500 with 4 Axes>"
            ]
          },
          "metadata": {},
          "output_type": "display_data"
        }
      ],
      "source": [
        "plt.figure(figsize=(15, 5))\n",
        "for i, col in enumerate(numerical_columns, 1):\n",
        "    plt.subplot(1, 4, i)\n",
        "    sns.boxplot(y=df[col])\n",
        "    plt.title(f'Boxplot of {col}')\n",
        "plt.tight_layout()\n",
        "plt.show()"
      ]
    },
    {
      "cell_type": "markdown",
      "metadata": {
        "id": "3VE2-M0xx3VG"
      },
      "source": [
        "We see a lot of outliers in charges and a few outliers in bmi.\n"
      ]
    },
    {
      "cell_type": "code",
      "execution_count": 10,
      "metadata": {
        "id": "cN_E_rvhxvGl"
      },
      "outputs": [],
      "source": [
        "def get_bounds(column):\n",
        "    Q1 = column.quantile(0.25)\n",
        "    Q3 = column.quantile(0.75)\n",
        "    IQR = Q3 - Q1\n",
        "    lower_bound = Q1 - 1.5 * IQR\n",
        "    upper_bound = Q3 + 1.5 * IQR\n",
        "    return lower_bound, upper_bound"
      ]
    },
    {
      "cell_type": "code",
      "execution_count": 11,
      "metadata": {
        "colab": {
          "base_uri": "https://localhost:8080/"
        },
        "id": "V04NAvnOyDyp",
        "outputId": "7a558bdf-691b-4838-dbe6-415a33c33268"
      },
      "outputs": [
        {
          "name": "stdout",
          "output_type": "stream",
          "text": [
            "\n",
            "Outlier Summary Before Treatment:\n",
            "========\n",
            "age:\n",
            "Number of outliers: 0\n",
            "Lower bound: -9.00\n",
            "Upper bound: 87.00\n",
            "========\n",
            "bmi:\n",
            "Number of outliers: 9\n",
            "Lower bound: 13.70\n",
            "Upper bound: 47.29\n",
            "Outlier values: \n",
            "bmi\n",
            "49.06    1\n",
            "48.07    1\n",
            "47.52    1\n",
            "47.41    1\n",
            "50.38    1\n",
            "Name: count, dtype: int64\n",
            "========\n",
            "children:\n",
            "Number of outliers: 0\n",
            "Lower bound: -3.00\n",
            "Upper bound: 5.00\n",
            "========\n",
            "charges:\n",
            "Number of outliers: 139\n",
            "Lower bound: -13109.15\n",
            "Upper bound: 34489.35\n",
            "Outlier values: \n",
            "charges\n",
            "39611.7577    1\n",
            "36837.4670    1\n",
            "37701.8768    1\n",
            "38711.0000    1\n",
            "35585.5760    1\n",
            "Name: count, dtype: int64\n"
          ]
        }
      ],
      "source": [
        "print(\"\\nOutlier Summary Before Treatment:\")\n",
        "for col in numerical_columns:\n",
        "    lower_bound, upper_bound = get_bounds(df[col])\n",
        "    outliers = df[(df[col] < lower_bound) | (df[col] > upper_bound)][col]\n",
        "    # Example: df[(df[col] < lower_bound) | (df[col] > upper_bound)][bmi] ==> values higher or lower than the quartiles\n",
        "    print(f\"========\\n{col}:\")\n",
        "    print(f\"Number of outliers: {len(outliers)}\")\n",
        "    print(f\"Lower bound: {lower_bound:.2f}\")\n",
        "    print(f\"Upper bound: {upper_bound:.2f}\")\n",
        "    if len(outliers) > 0:\n",
        "        print(f\"Outlier values: \\n{outliers.value_counts().head()}\")"
      ]
    },
    {
      "cell_type": "markdown",
      "metadata": {
        "id": "0Hd7o_xz0D5v"
      },
      "source": [
        "###Capping Outliers\n"
      ]
    },
    {
      "cell_type": "code",
      "execution_count": 12,
      "metadata": {
        "colab": {
          "base_uri": "https://localhost:8080/"
        },
        "id": "KJP_dHYYyGRj",
        "outputId": "a4348941-fff9-4154-a25c-914282fa22c1"
      },
      "outputs": [
        {
          "name": "stdout",
          "output_type": "stream",
          "text": [
            "Number of values capped in age: 0\n",
            "========\n",
            "Number of values capped in bmi: 9\n",
            "========\n",
            "Number of values capped in children: 0\n",
            "========\n",
            "Number of values capped in charges: 139\n",
            "========\n"
          ]
        }
      ],
      "source": [
        "df_capped = df.copy()\n",
        "for col in numerical_columns:\n",
        "    lower_bound, upper_bound = get_bounds(df[col])\n",
        "    original_values = df_capped[col].copy()\n",
        "\n",
        "    df_capped[col] = df_capped[col].clip(lower=lower_bound, upper=upper_bound)\n",
        "\n",
        "    n_capped = (original_values != df_capped[col]).sum()\n",
        "    print(f\"Number of values capped in {col}: {n_capped}\\n========\")"
      ]
    },
    {
      "cell_type": "code",
      "execution_count": 13,
      "metadata": {
        "colab": {
          "base_uri": "https://localhost:8080/",
          "height": 505
        },
        "id": "nYf2JEKS0PKS",
        "outputId": "5728dc2b-78d4-4e87-d97c-bb65cd5e2265"
      },
      "outputs": [
        {
          "data": {
            "image/png": "[encoded data removed]",
            "text/plain": [
              "<Figure size 1500x500 with 4 Axes>"
            ]
          },
          "metadata": {},
          "output_type": "display_data"
        }
      ],
      "source": [
        "plt.figure(figsize=(15, 5))\n",
        "for i, col in enumerate(numerical_columns, 1):\n",
        "    plt.subplot(1, 4, i)\n",
        "    sns.boxplot(y=df_capped[col])\n",
        "    plt.title(f'Boxplot of {col} (After Capping)')\n",
        "plt.tight_layout()\n",
        "plt.show()"
      ]
    },
    {
      "cell_type": "markdown",
      "metadata": {
        "id": "tZ9tRCsC1et9"
      },
      "source": [
        "### Handle Categorical Outliers (rare categories)\n"
      ]
    },
    {
      "cell_type": "code",
      "execution_count": 14,
      "metadata": {
        "colab": {
          "base_uri": "https://localhost:8080/"
        },
        "id": "Tng0Wf5t0sD_",
        "outputId": "3cbc5ecd-26ce-4daa-ec73-403cb3367868"
      },
      "outputs": [
        {
          "name": "stdout",
          "output_type": "stream",
          "text": [
            "\n",
            "Categorical Value Frequencies:\n",
            "========\n",
            "sex:\n",
            "sex\n",
            "male      676\n",
            "female    662\n",
            "Name: count, dtype: int64\n",
            "========\n",
            "smoker:\n",
            "smoker\n",
            "no     1064\n",
            "yes     274\n",
            "Name: count, dtype: int64\n",
            "========\n",
            "region:\n",
            "region\n",
            "southeast    364\n",
            "northwest    325\n",
            "southwest    325\n",
            "northeast    324\n",
            "Name: count, dtype: int64\n"
          ]
        }
      ],
      "source": [
        "print(\"\\nCategorical Value Frequencies:\")\n",
        "for col in categorical_columns:\n",
        "    value_counts = df_capped[col].value_counts()\n",
        "    print(f\"========\\n{col}:\")\n",
        "    print(value_counts)\n",
        "\n",
        "    # Define rare categories (e.g., less than 5% of total)\n",
        "    threshold = len(df_capped) * 0.05\n",
        "    rare_categories = value_counts[value_counts < threshold].index\n",
        "\n",
        "    if len(rare_categories) > 0:\n",
        "        print(f\"Rare categories in {col} (less than 5%): {\n",
        "              list(rare_categories)}\")\n",
        "        # Replace rare categories with mode\n",
        "        mode_category = df_capped[col].mode()[0]\n",
        "        df_capped.loc[df_capped[col].isin(\n",
        "            rare_categories), col] = mode_category\n",
        "        print(f\"Replaced with mode: {mode_category}\")"
      ]
    },
    {
      "cell_type": "markdown",
      "metadata": {
        "id": "lSgogO1_2ADq"
      },
      "source": [
        "**Conclusion:** No rare categories\n"
      ]
    },
    {
      "cell_type": "markdown",
      "metadata": {
        "id": "7QfWRdq64GHI"
      },
      "source": [
        "##5. Check for Duplicates\n"
      ]
    },
    {
      "cell_type": "code",
      "execution_count": 15,
      "metadata": {
        "colab": {
          "base_uri": "https://localhost:8080/"
        },
        "id": "-pU8wAnl1oKX",
        "outputId": "10d1ad8b-579e-455d-d652-c2c87960f607"
      },
      "outputs": [
        {
          "name": "stdout",
          "output_type": "stream",
          "text": [
            "Number of duplicate rows: 1\n",
            "\n",
            "Duplicate rows:\n",
            "     age   sex    bmi  children smoker     region    charges\n",
            "581   19  male  30.59         0     no  northwest  1639.5631\n",
            "\n",
            "Shape of dataset before removing duplicates: (1338, 7)\n",
            "Shape of dataset after removing duplicates: (1337, 7)\n",
            "Number of rows removed: 1\n"
          ]
        }
      ],
      "source": [
        "duplicate_count = df_capped.duplicated().sum()\n",
        "print(f\"Number of duplicate rows: {duplicate_count}\")\n",
        "\n",
        "if duplicate_count > 0:\n",
        "    print(\"\\nDuplicate rows:\")\n",
        "    print(df_capped[df_capped.duplicated(keep='first')])\n",
        "\n",
        "    # Remove duplicates and keep the first occurrence\n",
        "    df_capped = df_capped.drop_duplicates(keep='first')\n",
        "    print(f\"\\nShape of dataset before removing duplicates: {df.shape}\")\n",
        "    print(f\"Shape of dataset after removing duplicates: {df_capped.shape}\")\n",
        "    print(f\"Number of rows removed: {df.shape[0] - df_capped.shape[0]}\")\n",
        "else:\n",
        "    print(\"\\nNo duplicate rows found in the dataset!\")"
      ]
    },
    {
      "cell_type": "code",
      "execution_count": 16,
      "metadata": {
        "colab": {
          "base_uri": "https://localhost:8080/"
        },
        "id": "hXTjtIE_4aUM",
        "outputId": "8620c084-83f6-4de0-fbba-cb6750f198ee"
      },
      "outputs": [
        {
          "name": "stdout",
          "output_type": "stream",
          "text": [
            "\n",
            "Final duplicate count: 0\n"
          ]
        }
      ],
      "source": [
        "final_duplicate_check = df_capped.duplicated().sum()\n",
        "print(f\"\\nFinal duplicate count: {final_duplicate_check}\")"
      ]
    },
    {
      "cell_type": "markdown",
      "metadata": {
        "id": "guRHAsSR5F2M"
      },
      "source": [
        "##6. Drop Low-Variance Columns\n"
      ]
    },
    {
      "cell_type": "code",
      "execution_count": 17,
      "metadata": {
        "colab": {
          "base_uri": "https://localhost:8080/"
        },
        "id": "3zCI-NvE4p_H",
        "outputId": "2e862c6d-95f3-4e48-c862-e17340ea6002"
      },
      "outputs": [
        {
          "name": "stdout",
          "output_type": "stream",
          "text": [
            "Variances of numerical columns:\n",
            "age         1.972433e+02\n",
            "bmi         3.671381e+01\n",
            "children    1.453402e+00\n",
            "charges     1.031753e+08\n",
            "dtype: float64\n"
          ]
        }
      ],
      "source": [
        "numerical_variances = df_capped[numerical_columns].var()\n",
        "print(\"Variances of numerical columns:\")\n",
        "print(numerical_variances)"
      ]
    },
    {
      "cell_type": "code",
      "execution_count": 18,
      "metadata": {
        "colab": {
          "base_uri": "https://localhost:8080/"
        },
        "id": "GYQmJPjG5XrE",
        "outputId": "223ce95e-1807-42ed-feca-d8b6d6b9ce6b"
      },
      "outputs": [
        {
          "name": "stdout",
          "output_type": "stream",
          "text": [
            "\n",
            "Coefficient of Variation (%) of numerical columns:\n",
            "age          35.807156\n",
            "bmi          19.768928\n",
            "children    110.023823\n",
            "charges      81.341696\n",
            "dtype: float64\n"
          ]
        }
      ],
      "source": [
        "numerical_cv = df_capped[numerical_columns].std(\n",
        ") / df_capped[numerical_columns].mean() * 100\n",
        "\n",
        "\n",
        "print(\"\\nCoefficient of Variation (%) of numerical columns:\")\n",
        "\n",
        "\n",
        "print(numerical_cv)"
      ]
    },
    {
      "cell_type": "code",
      "execution_count": 19,
      "metadata": {
        "colab": {
          "base_uri": "https://localhost:8080/"
        },
        "id": "vSXPfFK-5wN7",
        "outputId": "cecc92b1-5938-48db-d438-33c007ed9859"
      },
      "outputs": [
        {
          "name": "stdout",
          "output_type": "stream",
          "text": [
            "\n",
            "Low variance columns:\n",
            "Numerical: []\n"
          ]
        }
      ],
      "source": [
        "NUMERICAL_VARIANCE_THRESHOLD = 0.01\n",
        "low_variance_numerical = numerical_variances[numerical_variances <\n",
        "                                             NUMERICAL_VARIANCE_THRESHOLD].index.tolist()\n",
        "print(\"\\nLow variance columns:\")\n",
        "print(\"Numerical:\", low_variance_numerical)"
      ]
    },
    {
      "cell_type": "markdown",
      "metadata": {
        "id": "r3jJ4Ma_7Dj3"
      },
      "source": [
        "**Conclusion:** No columns to drop.\n"
      ]
    },
    {
      "cell_type": "code",
      "execution_count": 20,
      "metadata": {
        "colab": {
          "base_uri": "https://localhost:8080/"
        },
        "id": "0cKijOJu63Jl",
        "outputId": "b4991190-6c91-4432-d01e-9b31549c50ca"
      },
      "outputs": [
        {
          "name": "stdout",
          "output_type": "stream",
          "text": [
            "\n",
            "No low variance columns found to remove!\n",
            "\n",
            "Final dataset shape: (1337, 7)\n"
          ]
        }
      ],
      "source": [
        "# Remove low variance columns if any exist\n",
        "if low_variance_numerical:\n",
        "    print(f\"\\nRemoving {len(low_variance_numerical)\n",
        "                        } low variance columns: {low_variance_numerical}\")\n",
        "    df_capped = df_capped.drop(columns=low_variance_numerical)\n",
        "    print(f\"Remaining columns: {df_capped.columns.tolist()}\")\n",
        "else:\n",
        "    print(\"\\nNo low variance columns found to remove!\")\n",
        "\n",
        "# Print final shape of dataset\n",
        "print(f\"\\nFinal dataset shape: {df_capped.shape}\")"
      ]
    },
    {
      "cell_type": "markdown",
      "metadata": {
        "id": "eX0Z59SN7vTt"
      },
      "source": [
        "##7. Feature and Label Separation\n"
      ]
    },
    {
      "cell_type": "code",
      "execution_count": 21,
      "metadata": {
        "colab": {
          "base_uri": "https://localhost:8080/"
        },
        "id": "dr1JqnHz7roS",
        "outputId": "d5904270-b946-4f26-cc4e-e7f84f3df506"
      },
      "outputs": [
        {
          "name": "stdout",
          "output_type": "stream",
          "text": [
            "Features (X): (1337, 6)\n",
            "Label (y): (1337,)\n",
            "=================\n",
            "   age     sex     bmi  children smoker     region\n",
            "0   19  female  27.900         0    yes  southwest\n",
            "1   18    male  33.770         1     no  southeast\n",
            "2   28    male  33.000         3     no  southeast\n",
            "3   33    male  22.705         0     no  northwest\n",
            "4   32    male  28.880         0     no  northwest\n",
            "=================\n",
            "0    16884.92400\n",
            "1     1725.55230\n",
            "2     4449.46200\n",
            "3    21984.47061\n",
            "4     3866.85520\n",
            "Name: charges, dtype: float64\n"
          ]
        }
      ],
      "source": [
        "target = 'charges'\n",
        "X = df_capped.drop(columns=[target])\n",
        "y = df_capped[target]\n",
        "print(f\"Features (X): {X.shape}\")\n",
        "print(f\"Label (y): {y.shape}\\n=================\")\n",
        "print(X.head())\n",
        "print(f\"=================\")\n",
        "print(y.head())"
      ]
    },
    {
      "cell_type": "markdown",
      "metadata": {
        "id": "mD_qS4G99VsA"
      },
      "source": [
        "##8. Encoding Categorical Columns\n"
      ]
    },
    {
      "cell_type": "code",
      "execution_count": 22,
      "metadata": {
        "colab": {
          "base_uri": "https://localhost:8080/"
        },
        "id": "ryddb29w9FCs",
        "outputId": "277e1ec2-ea5f-4e11-8a99-dbee2e7ca4e7"
      },
      "outputs": [
        {
          "name": "stdout",
          "output_type": "stream",
          "text": [
            "Number of unique values in categorical columns:\n",
            "sex: 2 categories\n",
            "Categories: ['female', 'male']\n",
            "Categories (2, object): ['female', 'male']\n",
            "\n",
            "smoker: 2 categories\n",
            "Categories: ['yes', 'no']\n",
            "Categories (2, object): ['no', 'yes']\n",
            "\n",
            "region: 4 categories\n",
            "Categories: ['southwest', 'southeast', 'northwest', 'northeast']\n",
            "Categories (4, object): ['northeast', 'northwest', 'southeast', 'southwest']\n",
            "\n"
          ]
        }
      ],
      "source": [
        "print(\"Number of unique values in categorical columns:\")\n",
        "for col in categorical_columns:\n",
        "    print(f\"{col}: {X[col].nunique()} categories\")\n",
        "    print(f\"Categories: {X[col].unique()}\\n\")"
      ]
    },
    {
      "cell_type": "code",
      "execution_count": 23,
      "metadata": {
        "id": "4dw7-NLr9w76"
      },
      "outputs": [],
      "source": [
        "encoder = OneHotEncoder(sparse_output=False, drop='first')\n",
        "encoded_features = encoder.fit_transform(X[categorical_columns])"
      ]
    },
    {
      "cell_type": "code",
      "execution_count": 24,
      "metadata": {
        "id": "zYNLT4qc9zSy"
      },
      "outputs": [],
      "source": [
        "encoded_feature_names = []\n",
        "for i, column in enumerate(categorical_columns):\n",
        "    categories = encoder.categories_[i][1:]\n",
        "    encoded_feature_names.extend([f\"{column}_{cat}\" for cat in categories])\n",
        "\n",
        "encoded_df = pd.DataFrame(\n",
        "    encoded_features, columns=encoded_feature_names, index=X.index)"
      ]
    },
    {
      "cell_type": "code",
      "execution_count": 25,
      "metadata": {
        "colab": {
          "base_uri": "https://localhost:8080/"
        },
        "id": "JwKU2izJ-Tak",
        "outputId": "9afd98d0-749f-49d6-cad4-2f91ed085256"
      },
      "outputs": [
        {
          "name": "stdout",
          "output_type": "stream",
          "text": [
            "Numerical columns after removing 'charges': Index(['age', 'bmi', 'children'], dtype='object')\n"
          ]
        }
      ],
      "source": [
        "if 'charges' in numerical_columns:\n",
        "    numerical_columns = numerical_columns.difference(['charges'])\n",
        "    print(f\"Numerical columns after removing 'charges': {numerical_columns}\")\n",
        "numerical_features = X[numerical_columns]\n",
        "X_encoded = pd.concat([numerical_features, encoded_df], axis=1)"
      ]
    },
    {
      "cell_type": "code",
      "execution_count": 26,
      "metadata": {
        "colab": {
          "base_uri": "https://localhost:8080/",
          "height": 241
        },
        "id": "AZl9UBcQ_oyf",
        "outputId": "1ee0614b-1f35-4536-b8da-dd6aa9606d52"
      },
      "outputs": [
        {
          "name": "stdout",
          "output_type": "stream",
          "text": [
            "\n",
            "Shape of dataset after encoding: (1337, 8)\n"
          ]
        },
        {
          "data": {
            "text/html": [
              "<div>\n",
              "<style scoped>\n",
              "    .dataframe tbody tr th:only-of-type {\n",
              "        vertical-align: middle;\n",
              "    }\n",
              "\n",
              "    .dataframe tbody tr th {\n",
              "        vertical-align: top;\n",
              "    }\n",
              "\n",
              "    .dataframe thead th {\n",
              "        text-align: right;\n",
              "    }\n",
              "</style>\n",
              "<table border=\"1\" class=\"dataframe\">\n",
              "  <thead>\n",
              "    <tr style=\"text-align: right;\">\n",
              "      <th></th>\n",
              "      <th>age</th>\n",
              "      <th>bmi</th>\n",
              "      <th>children</th>\n",
              "      <th>sex_male</th>\n",
              "      <th>smoker_yes</th>\n",
              "      <th>region_northwest</th>\n",
              "      <th>region_southeast</th>\n",
              "      <th>region_southwest</th>\n",
              "    </tr>\n",
              "  </thead>\n",
              "  <tbody>\n",
              "    <tr>\n",
              "      <th>0</th>\n",
              "      <td>19</td>\n",
              "      <td>27.900</td>\n",
              "      <td>0</td>\n",
              "      <td>0.0</td>\n",
              "      <td>1.0</td>\n",
              "      <td>0.0</td>\n",
              "      <td>0.0</td>\n",
              "      <td>1.0</td>\n",
              "    </tr>\n",
              "    <tr>\n",
              "      <th>1</th>\n",
              "      <td>18</td>\n",
              "      <td>33.770</td>\n",
              "      <td>1</td>\n",
              "      <td>1.0</td>\n",
              "      <td>0.0</td>\n",
              "      <td>0.0</td>\n",
              "      <td>1.0</td>\n",
              "      <td>0.0</td>\n",
              "    </tr>\n",
              "    <tr>\n",
              "      <th>2</th>\n",
              "      <td>28</td>\n",
              "      <td>33.000</td>\n",
              "      <td>3</td>\n",
              "      <td>1.0</td>\n",
              "      <td>0.0</td>\n",
              "      <td>0.0</td>\n",
              "      <td>1.0</td>\n",
              "      <td>0.0</td>\n",
              "    </tr>\n",
              "    <tr>\n",
              "      <th>3</th>\n",
              "      <td>33</td>\n",
              "      <td>22.705</td>\n",
              "      <td>0</td>\n",
              "      <td>1.0</td>\n",
              "      <td>0.0</td>\n",
              "      <td>1.0</td>\n",
              "      <td>0.0</td>\n",
              "      <td>0.0</td>\n",
              "    </tr>\n",
              "    <tr>\n",
              "      <th>4</th>\n",
              "      <td>32</td>\n",
              "      <td>28.880</td>\n",
              "      <td>0</td>\n",
              "      <td>1.0</td>\n",
              "      <td>0.0</td>\n",
              "      <td>1.0</td>\n",
              "      <td>0.0</td>\n",
              "      <td>0.0</td>\n",
              "    </tr>\n",
              "  </tbody>\n",
              "</table>\n",
              "</div>"
            ],
            "text/plain": [
              "   age     bmi  children  sex_male  smoker_yes  region_northwest  \\\n",
              "0   19  27.900         0       0.0         1.0               0.0   \n",
              "1   18  33.770         1       1.0         0.0               0.0   \n",
              "2   28  33.000         3       1.0         0.0               0.0   \n",
              "3   33  22.705         0       1.0         0.0               1.0   \n",
              "4   32  28.880         0       1.0         0.0               1.0   \n",
              "\n",
              "   region_southeast  region_southwest  \n",
              "0               0.0               1.0  \n",
              "1               1.0               0.0  \n",
              "2               1.0               0.0  \n",
              "3               0.0               0.0  \n",
              "4               0.0               0.0  "
            ]
          },
          "execution_count": 26,
          "metadata": {},
          "output_type": "execute_result"
        }
      ],
      "source": [
        "print(\"\\nShape of dataset after encoding:\", X_encoded.shape)\n",
        "X_encoded.head()"
      ]
    },
    {
      "cell_type": "markdown",
      "metadata": {
        "id": "o9SxDAeoAVLO"
      },
      "source": [
        "# Model Building\n"
      ]
    },
    {
      "cell_type": "code",
      "execution_count": 27,
      "metadata": {
        "id": "17g2iLohAF5-"
      },
      "outputs": [],
      "source": [
        "X_train, X_test, y_train, y_test = train_test_split(\n",
        "    X_encoded, y, test_size=0.2, random_state=42)"
      ]
    },
    {
      "cell_type": "code",
      "execution_count": 28,
      "metadata": {
        "colab": {
          "base_uri": "https://localhost:8080/",
          "height": 1000
        },
        "id": "MR1pb8DrAIxk",
        "outputId": "50e04fa5-e3f0-4ce1-b631-12f41eff63c7"
      },
      "outputs": [
        {
          "name": "stdout",
          "output_type": "stream",
          "text": [
            "\n",
            "-------------------- Linear Regression --------------------\n",
            "\n",
            "Training Metrics:\n",
            "MAE: $3426.22\n",
            "MSE: $27358018.75\n",
            "RMSE: $5230.49\n",
            "R² Score: 0.7253\n",
            "\n",
            "Test Metrics:\n",
            "MAE: $3147.62\n",
            "MSE: $20870491.48\n",
            "RMSE: $4568.42\n",
            "R² Score: 0.8211\n",
            "\n",
            "Feature Coefficients:\n",
            "            Feature   Coefficient\n",
            "4        smoker_yes  19644.617684\n",
            "6  region_southeast   -709.955714\n",
            "7  region_southwest   -536.616401\n",
            "2          children    462.756881\n",
            "5  region_northwest   -246.101545\n",
            "0               age    223.603617\n",
            "3          sex_male   -218.333284\n",
            "1               bmi    216.654750\n",
            "\n",
            "-------------------- Decision Tree --------------------\n",
            "\n",
            "Training Metrics:\n",
            "MAE: $0.00\n",
            "MSE: $0.00\n",
            "RMSE: $0.00\n",
            "R² Score: 1.0000\n",
            "\n",
            "Test Metrics:\n",
            "MAE: $2330.62\n",
            "MSE: $29764391.53\n",
            "RMSE: $5455.68\n",
            "R² Score: 0.7448\n",
            "\n",
            "Feature Importance:\n",
            "            Feature  Importance\n",
            "4        smoker_yes    0.595579\n",
            "1               bmi    0.172767\n",
            "0               age    0.161588\n",
            "2          children    0.025299\n",
            "5  region_northwest    0.019817\n",
            "6  region_southeast    0.009940\n",
            "3          sex_male    0.009561\n",
            "7  region_southwest    0.005449\n",
            "\n",
            "-------------------- Random Forest --------------------\n",
            "\n",
            "Training Metrics:\n",
            "MAE: $988.39\n",
            "MSE: $3323456.97\n",
            "RMSE: $1823.04\n",
            "R² Score: 0.9666\n",
            "\n",
            "Test Metrics:\n",
            "MAE: $2276.15\n",
            "MSE: $18322326.64\n",
            "RMSE: $4280.46\n",
            "R² Score: 0.8429\n",
            "\n",
            "Feature Importance:\n",
            "            Feature  Importance\n",
            "4        smoker_yes    0.598335\n",
            "1               bmi    0.175776\n",
            "0               age    0.165561\n",
            "2          children    0.028472\n",
            "3          sex_male    0.009311\n",
            "5  region_northwest    0.009014\n",
            "6  region_southeast    0.007835\n",
            "7  region_southwest    0.005697\n",
            "\n",
            "-------------------- XGBoost --------------------\n",
            "\n",
            "Training Metrics:\n",
            "MAE: $419.65\n",
            "MSE: $502231.38\n",
            "RMSE: $708.68\n",
            "R² Score: 0.9950\n",
            "\n",
            "Test Metrics:\n",
            "MAE: $2512.59\n",
            "MSE: $21810086.05\n",
            "RMSE: $4670.13\n",
            "R² Score: 0.8130\n",
            "\n",
            "Feature Importance:\n",
            "            Feature  Importance\n",
            "4        smoker_yes    0.895613\n",
            "0               age    0.027131\n",
            "1               bmi    0.021012\n",
            "5  region_northwest    0.015231\n",
            "2          children    0.015192\n",
            "7  region_southwest    0.009531\n",
            "6  region_southeast    0.009394\n",
            "3          sex_male    0.006896\n",
            "\n",
            "Model Comparison:\n",
            "               Model     Train MAE     Test MAE    Train RMSE    Test RMSE  \\\n",
            "0  Linear Regression  3.426221e+03  3147.615472  5.230489e+03  4568.423304   \n",
            "1      Decision Tree  4.628299e-13  2330.620460  1.835083e-12  5455.675168   \n",
            "2      Random Forest  9.883941e+02  2276.146052  1.823035e+03  4280.458695   \n",
            "3            XGBoost  4.196514e+02  2512.593244  7.086828e+02  4670.126985   \n",
            "\n",
            "   Train R²   Test R²  \n",
            "0  0.725326  0.821075  \n",
            "1  1.000000  0.744827  \n",
            "2  0.966633  0.842921  \n",
            "3  0.994958  0.813020  \n",
            "\n",
            "Best model is: Random Forest\n"
          ]
        },
        {
          "data": {
            "image/png": "[encoded data removed]",
            "text/plain": [
              "<Figure size 1000x600 with 1 Axes>"
            ]
          },
          "metadata": {},
          "output_type": "display_data"
        }
      ],
      "source": [
        "from sklearn.linear_model import LinearRegression\n",
        "from sklearn.tree import DecisionTreeRegressor\n",
        "from sklearn.ensemble import RandomForestRegressor\n",
        "from sklearn.metrics import mean_absolute_error, mean_squared_error, r2_score\n",
        "import xgboost as xgb\n",
        "import numpy as np\n",
        "\n",
        "# Initialize models\n",
        "models = {\n",
        "    'Linear Regression': LinearRegression(),\n",
        "    'Decision Tree': DecisionTreeRegressor(random_state=42),\n",
        "    'Random Forest': RandomForestRegressor(random_state=42),\n",
        "    'XGBoost': xgb.XGBRegressor(random_state=42)\n",
        "}\n",
        "\n",
        "# Dictionary to store results\n",
        "results = {}\n",
        "\n",
        "# Train and evaluate each model\n",
        "for name, model in models.items():\n",
        "    print(f\"\\n{'-'*20} {name} {'-'*20}\")\n",
        "\n",
        "    # Train the model\n",
        "    model.fit(X_train, y_train)\n",
        "\n",
        "    # Make predictions on both training and test sets\n",
        "    train_predictions = model.predict(X_train)\n",
        "    test_predictions = model.predict(X_test)\n",
        "\n",
        "    # Calculate metrics for training set\n",
        "    train_mae = mean_absolute_error(y_train, train_predictions)\n",
        "    train_mse = mean_squared_error(y_train, train_predictions)\n",
        "    train_rmse = np.sqrt(train_mse)\n",
        "    train_r2 = r2_score(y_train, train_predictions)\n",
        "\n",
        "    # Calculate metrics for test set\n",
        "    test_mae = mean_absolute_error(y_test, test_predictions)\n",
        "    test_mse = mean_squared_error(y_test, test_predictions)\n",
        "    test_rmse = np.sqrt(test_mse)\n",
        "    test_r2 = r2_score(y_test, test_predictions)\n",
        "\n",
        "    # Store results\n",
        "    results[name] = {\n",
        "        'train_mae': train_mae,\n",
        "        'train_mse': train_mse,\n",
        "        'train_rmse': train_rmse,\n",
        "        'train_r2': train_r2,\n",
        "        'test_mae': test_mae,\n",
        "        'test_mse': test_mse,\n",
        "        'test_rmse': test_rmse,\n",
        "        'test_r2': test_r2\n",
        "    }\n",
        "\n",
        "    # Print metrics\n",
        "    print(\"\\nTraining Metrics:\")\n",
        "    print(f\"MAE: ${train_mae:.2f}\")\n",
        "    print(f\"MSE: ${train_mse:.2f}\")\n",
        "    print(f\"RMSE: ${train_rmse:.2f}\")\n",
        "    print(f\"R² Score: {train_r2:.4f}\")\n",
        "\n",
        "    print(\"\\nTest Metrics:\")\n",
        "    print(f\"MAE: ${test_mae:.2f}\")\n",
        "    print(f\"MSE: ${test_mse:.2f}\")\n",
        "    print(f\"RMSE: ${test_rmse:.2f}\")\n",
        "    print(f\"R² Score: {test_r2:.4f}\")\n",
        "\n",
        "    # For Linear Regression, print feature importance (coefficients)\n",
        "    if name == 'Linear Regression':\n",
        "        coef_df = pd.DataFrame({\n",
        "            'Feature': X_train.columns,\n",
        "            'Coefficient': model.coef_\n",
        "        })\n",
        "        print(\"\\nFeature Coefficients:\")\n",
        "        print(coef_df.sort_values(by='Coefficient', key=abs, ascending=False))\n",
        "\n",
        "    # For Tree-based models and XGBoost, print feature importance\n",
        "    if name in ['Decision Tree', 'Random Forest', 'XGBoost']:\n",
        "        feat_imp = pd.DataFrame({\n",
        "            'Feature': X_train.columns,\n",
        "            'Importance': model.feature_importances_\n",
        "        })\n",
        "        print(\"\\nFeature Importance:\")\n",
        "        print(feat_imp.sort_values(by='Importance', ascending=False))\n",
        "\n",
        "# Compare models\n",
        "comparison_df = pd.DataFrame({\n",
        "    'Model': results.keys(),\n",
        "    'Train MAE': [results[model]['train_mae'] for model in results],\n",
        "    'Test MAE': [results[model]['test_mae'] for model in results],\n",
        "    'Train RMSE': [results[model]['train_rmse'] for model in results],\n",
        "    'Test RMSE': [results[model]['test_rmse'] for model in results],\n",
        "    'Train R²': [results[model]['train_r2'] for model in results],\n",
        "    'Test R²': [results[model]['test_r2'] for model in results]\n",
        "})\n",
        "\n",
        "print(\"\\nModel Comparison:\")\n",
        "print(comparison_df)\n",
        "\n",
        "# Visualize predictions vs actual for best model\n",
        "best_model_name = comparison_df.sort_values(by='Test MAE')['Model'].iloc[0]\n",
        "best_model = models[best_model_name]\n",
        "print(f\"\\nBest model is: {best_model_name}\")\n",
        "\n",
        "\n",
        "plt.figure(figsize=(10, 6))\n",
        "plt.scatter(y_test, best_model.predict(X_test), alpha=0.5)\n",
        "plt.plot([y_test.min(), y_test.max()], [\n",
        "         y_test.min(), y_test.max()], 'r--', lw=2)\n",
        "plt.xlabel('Actual Charges')\n",
        "plt.ylabel('Predicted Charges')\n",
        "plt.title(f'Actual vs Predicted Charges using {best_model_name}')\n",
        "plt.tight_layout()\n",
        "plt.show()"
      ]
    }
  ],
  "metadata": {
    "colab": {
      "provenance": []
    },
    "kernelspec": {
      "display_name": "Python 3",
      "name": "python3"
    },
    "language_info": {
      "codemirror_mode": {
        "name": "ipython",
        "version": 3
      },
      "file_extension": ".py",
      "mimetype": "text/x-python",
      "name": "python",
      "nbconvert_exporter": "python",
      "pygments_lexer": "ipython3",
      "version": "3.12.0"
    }
  },
  "nbformat": 4,
  "nbformat_minor": 0
}
